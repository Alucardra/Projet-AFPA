# Boxplots pour détecter les valeurs extrêmes
plt.figure(figsize=(15, 5))

plt.subplot(1, 3, 1)
sns.boxplot(data['gdpp'])
plt.title('Boxplot de GDPP')

plt.subplot(1, 3, 2)
sns.boxplot(data['health'])
plt.title('Boxplot de Health')

plt.subplot(1, 3, 3)
sns.boxplot(data['life_expec'])
plt.title('Boxplot de Life Expectancy')

plt.show()
